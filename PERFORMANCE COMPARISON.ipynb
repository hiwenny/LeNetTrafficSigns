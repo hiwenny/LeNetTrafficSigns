{
 "cells": [
  {
   "cell_type": "markdown",
   "metadata": {},
   "source": [
    "PERFORMANCE COMPARISON"
   ]
  },
  {
   "cell_type": "code",
   "execution_count": null,
   "metadata": {
    "collapsed": true
   },
   "outputs": [],
   "source": [
    "Raw\n",
    "\n",
    "EPOCH 1 ...\n",
    "Validation Accuracy = 0.404\n",
    "\n",
    "EPOCH 2 ...\n",
    "Validation Accuracy = 0.547\n",
    "\n",
    "EPOCH 3 ...\n",
    "Validation Accuracy = 0.053\n",
    "\n",
    "EPOCH 4 ...\n",
    "Validation Accuracy = 0.054\n",
    "\n",
    "EPOCH 5 ...\n",
    "Validation Accuracy = 0.054\n",
    "\n",
    "EPOCH 6 ...\n",
    "Validation Accuracy = 0.054\n",
    "\n",
    "EPOCH 7 ...\n",
    "Validation Accuracy = 0.054\n",
    "\n",
    "EPOCH 8 ...\n",
    "Validation Accuracy = 0.054\n",
    "\n",
    "EPOCH 9 ...\n",
    "Validation Accuracy = 0.054\n",
    "\n",
    "EPOCH 10 ...\n",
    "Validation Accuracy = 0.054"
   ]
  },
  {
   "cell_type": "code",
   "execution_count": null,
   "metadata": {
    "collapsed": true
   },
   "outputs": [],
   "source": [
    "Raw_N\n",
    "\n",
    "EPOCH 1 ...\n",
    "Validation Accuracy = 0.123\n",
    "\n",
    "EPOCH 2 ...\n",
    "Validation Accuracy = 0.160\n",
    "\n",
    "git pull origin project\n",
    "EPOCH 3 ...\n",
    "Validation Accuracy = 0.142\n",
    "\n",
    "EPOCH 4 ...\n",
    "Validation Accuracy = 0.232\n",
    "\n",
    "EPOCH 5 ...\n",
    "Validation Accuracy = 0.098\n",
    "\n",
    "EPOCH 6 ...\n",
    "Validation Accuracy = 0.271\n",
    "\n",
    "EPOCH 7 ...\n",
    "Validation Accuracy = 0.327\n",
    "\n",
    "EPOCH 8 ...\n",
    "Validation Accuracy = 0.122\n",
    "\n",
    "EPOCH 9 ...\n",
    "Validation Accuracy = 0.286\n",
    "\n",
    "EPOCH 10 ...\n",
    "Validation Accuracy = 0.350"
   ]
  },
  {
   "cell_type": "code",
   "execution_count": null,
   "metadata": {
    "collapsed": true
   },
   "outputs": [],
   "source": [
    "Gray\n",
    "\n",
    "EPOCH 1 ...\n",
    "Validation Accuracy = 0.588\n",
    "\n",
    "EPOCH 2 ...\n",
    "Validation Accuracy = 0.660\n",
    "\n",
    "EPOCH 3 ...\n",
    "Validation Accuracy = 0.670\n",
    "\n",
    "EPOCH 4 ...\n",
    "Validation Accuracy = 0.052\n",
    "\n",
    "EPOCH 5 ...\n",
    "Validation Accuracy = 0.054\n",
    "\n",
    "EPOCH 6 ...\n",
    "Validation Accuracy = 0.054\n",
    "\n",
    "EPOCH 7 ...\n",
    "Validation Accuracy = 0.048\n",
    "\n",
    "EPOCH 8 ...\n",
    "Validation Accuracy = 0.054\n",
    "\n",
    "EPOCH 9 ...\n",
    "Validation Accuracy = 0.054\n",
    "\n",
    "EPOCH 10 ...\n",
    "Validation Accuracy = 0.054"
   ]
  },
  {
   "cell_type": "code",
   "execution_count": null,
   "metadata": {
    "collapsed": true
   },
   "outputs": [],
   "source": [
    "Gray_N\n"
   ]
  },
  {
   "cell_type": "code",
   "execution_count": null,
   "metadata": {
    "collapsed": true
   },
   "outputs": [],
   "source": []
  }
 ],
 "metadata": {
  "kernelspec": {
   "display_name": "Python 3",
   "language": "python",
   "name": "python3"
  },
  "language_info": {
   "codemirror_mode": {
    "name": "ipython",
    "version": 3
   },
   "file_extension": ".py",
   "mimetype": "text/x-python",
   "name": "python",
   "nbconvert_exporter": "python",
   "pygments_lexer": "ipython3",
   "version": "3.5.4"
  }
 },
 "nbformat": 4,
 "nbformat_minor": 2
}
